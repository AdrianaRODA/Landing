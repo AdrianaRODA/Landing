{
  "nbformat": 4,
  "nbformat_minor": 0,
  "metadata": {
    "colab": {
      "provenance": [],
      "include_colab_link": true
    },
    "kernelspec": {
      "name": "python3",
      "display_name": "Python 3"
    },
    "language_info": {
      "name": "python"
    }
  },
  "cells": [
    {
      "cell_type": "markdown",
      "metadata": {
        "id": "view-in-github",
        "colab_type": "text"
      },
      "source": [
        "<a href=\"https://colab.research.google.com/github/AdrianaRODA/Landing/blob/main/solucion_taller2.ipynb\" target=\"_parent\"><img src=\"https://colab.research.google.com/assets/colab-badge.svg\" alt=\"Open In Colab\"/></a>"
      ]
    },
    {
      "cell_type": "code",
      "execution_count": 4,
      "metadata": {
        "id": "agr2dLIFoM8U"
      },
      "outputs": [],
      "source": [
        "def factorial(n):\n",
        "  prod = 1\n",
        "  for num in range(1, n+1):\n",
        "    prod = prod * num\n",
        "  return prod"
      ]
    },
    {
      "cell_type": "code",
      "source": [
        "factorial(12)"
      ],
      "metadata": {
        "id": "LWR5G3GVuv6c",
        "outputId": "f2da5272-1a40-46ff-acbf-6d3921773c10",
        "colab": {
          "base_uri": "https://localhost:8080/"
        }
      },
      "execution_count": 5,
      "outputs": [
        {
          "output_type": "execute_result",
          "data": {
            "text/plain": [
              "120"
            ]
          },
          "metadata": {},
          "execution_count": 5
        }
      ]
    },
    {
      "cell_type": "code",
      "source": [
        "def permutaciones(n,k):\n",
        "  numerador = factorial(n)\n",
        "  denominador = factorial(n-k)\n",
        "  return numerador/denominador"
      ],
      "metadata": {
        "id": "avJGnLmysVnU"
      },
      "execution_count": 6,
      "outputs": []
    },
    {
      "cell_type": "code",
      "source": [
        "permutaciones(3,2)"
      ],
      "metadata": {
        "id": "PKxfAFzhzrNX",
        "outputId": "8405f6b7-db9f-419b-ba37-0d65f9735051",
        "colab": {
          "base_uri": "https://localhost:8080/"
        }
      },
      "execution_count": 8,
      "outputs": [
        {
          "output_type": "execute_result",
          "data": {
            "text/plain": [
              "6.0"
            ]
          },
          "metadata": {},
          "execution_count": 8
        }
      ]
    }
  ]
}